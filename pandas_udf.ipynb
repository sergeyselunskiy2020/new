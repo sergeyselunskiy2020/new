{
 "cells": [
  {
   "cell_type": "code",
   "execution_count": 3,
   "id": "english-anniversary",
   "metadata": {},
   "outputs": [],
   "source": [
    "import numpy as np\n",
    "import findspark\n",
    "findspark.init()\n",
    "import pyspark\n",
    "from pyspark import sql\n",
    "import pandas as pd\n",
    "from pyspark.sql.functions import pandas_udf\n",
    "from pyspark.sql import Window\n",
    "from pyspark.sql.types import IntegerType, DoubleType\n",
    "from sklearn.model_selection import train_test_split\n",
    "from sklearn.linear_model import LogisticRegression\n",
    "spark = sql.SparkSession.builder \\\n",
    "        .master('local[*]') \\\n",
    "        .appName(\"local-spark-session\") \\\n",
    "        .getOrCreate()"
   ]
  },
  {
   "cell_type": "code",
   "execution_count": 4,
   "id": "approved-apple",
   "metadata": {},
   "outputs": [],
   "source": [
    "df = pd.DataFrame(np.random.randint(0,100,size=(15, 4)), columns=list('ABCD'))\n",
    "x = df.drop('D', axis=1)\n",
    "y = df['D']\n",
    "x_train, x_test, y_train, y_test = train_test_split(x, y, test_size=0.2, random_state=42)"
   ]
  },
  {
   "cell_type": "code",
   "execution_count": 5,
   "id": "reported-company",
   "metadata": {},
   "outputs": [
    {
     "name": "stderr",
     "output_type": "stream",
     "text": [
      "C:\\Users\\Сергей\\AppData\\Local\\Packages\\PythonSoftwareFoundation.Python.3.9_qbz5n2kfra8p0\\LocalCache\\local-packages\\Python39\\site-packages\\sklearn\\linear_model\\_logistic.py:814: ConvergenceWarning: lbfgs failed to converge (status=1):\n",
      "STOP: TOTAL NO. of ITERATIONS REACHED LIMIT.\n",
      "\n",
      "Increase the number of iterations (max_iter) or scale the data as shown in:\n",
      "    https://scikit-learn.org/stable/modules/preprocessing.html\n",
      "Please also refer to the documentation for alternative solver options:\n",
      "    https://scikit-learn.org/stable/modules/linear_model.html#logistic-regression\n",
      "  n_iter_i = _check_optimize_result(\n"
     ]
    },
    {
     "data": {
      "text/plain": [
       "array([39, 49, 59])"
      ]
     },
     "execution_count": 5,
     "metadata": {},
     "output_type": "execute_result"
    }
   ],
   "source": [
    "model = LogisticRegression(random_state=0).fit(x_train, y_train)\n",
    "model.predict(x_test)"
   ]
  },
  {
   "cell_type": "code",
   "execution_count": 6,
   "id": "informational-treasurer",
   "metadata": {},
   "outputs": [
    {
     "name": "stdout",
     "output_type": "stream",
     "text": [
      "+---+---+---+\n",
      "|  A|  B|  C|\n",
      "+---+---+---+\n",
      "| 40| 75| 93|\n",
      "| 31| 25| 89|\n",
      "| 45| 83| 80|\n",
      "+---+---+---+\n",
      "\n"
     ]
    }
   ],
   "source": [
    "spark_df = spark.createDataFrame(x_test)\n",
    "spark_df.show()"
   ]
  },
  {
   "cell_type": "code",
   "execution_count": 7,
   "id": "final-document",
   "metadata": {},
   "outputs": [],
   "source": [
    "features = ['A', 'B', 'C']"
   ]
  },
  {
   "cell_type": "code",
   "execution_count": 8,
   "id": "disabled-presence",
   "metadata": {},
   "outputs": [],
   "source": [
    "@pandas_udf(returnType=DoubleType())\n",
    "def predict_udf(*cols):\n",
    "    X = pd.concat(cols, axis=1)\n",
    "    return pd.Series(model.predict(X))"
   ]
  },
  {
   "cell_type": "code",
   "execution_count": 9,
   "id": "scenic-utility",
   "metadata": {},
   "outputs": [],
   "source": [
    "spark_df = spark_df.withColumn('predict', predict_udf(*features))"
   ]
  },
  {
   "cell_type": "code",
   "execution_count": 10,
   "id": "stuck-chart",
   "metadata": {},
   "outputs": [
    {
     "name": "stdout",
     "output_type": "stream",
     "text": [
      "+---+---+---+-------+\n",
      "|  A|  B|  C|predict|\n",
      "+---+---+---+-------+\n",
      "| 40| 75| 93|   39.0|\n",
      "| 31| 25| 89|   49.0|\n",
      "| 45| 83| 80|   59.0|\n",
      "+---+---+---+-------+\n",
      "\n"
     ]
    }
   ],
   "source": [
    "spark_df.show()"
   ]
  },
  {
   "cell_type": "code",
   "execution_count": 11,
   "id": "handed-shadow",
   "metadata": {},
   "outputs": [],
   "source": [
    "spark.stop()"
   ]
  },
  {
   "cell_type": "code",
   "execution_count": null,
   "id": "valid-hudson",
   "metadata": {},
   "outputs": [],
   "source": []
  }
 ],
 "metadata": {
  "kernelspec": {
   "display_name": "Python 3",
   "language": "python",
   "name": "python3"
  },
  "language_info": {
   "codemirror_mode": {
    "name": "ipython",
    "version": 3
   },
   "file_extension": ".py",
   "mimetype": "text/x-python",
   "name": "python",
   "nbconvert_exporter": "python",
   "pygments_lexer": "ipython3",
   "version": "3.9.9"
  }
 },
 "nbformat": 4,
 "nbformat_minor": 5
}
